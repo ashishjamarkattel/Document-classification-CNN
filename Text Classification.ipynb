{
 "cells": [
  {
   "cell_type": "markdown",
   "metadata": {
    "colab_type": "text",
    "id": "mDMgSstPYv0P"
   },
   "source": [
    "# Text Classification\n",
    "\n",
    "### About Data\n",
    "<pre>\n",
    "The data contains 20 classes document that we have to classify.\n",
    "- <b>Number of datapoints</b> : 18712.\n",
    "- <b>Number of class</b> : 20.\n",
    "- <b>Data format</b> : Txt File.\n",
    "            \n",
    "            documents/\n",
    "                      alt.atheism_49960.txt\n",
    "                      alt.atheism_51119.txt\n",
    "                      ...\n",
    "                     \n",
    "             where <b> alt.atheism</b> indicates the class name.\n",
    "\n",
    "</pre>\n",
    "\n",
    "### Bussiness Constrain\n",
    "<pre>\n",
    "\n",
    "- To develop a model that will help to classify the format to 20 classes provided.\n",
    "- Low latency.\n",
    "- Accuracy can be taken as performance matrix as its multiclass classification and data are nearly balance.\n",
    "\n",
    "</pre>"
   ]
  },
  {
   "cell_type": "markdown",
   "metadata": {},
   "source": [
    "### Imports"
   ]
  },
  {
   "cell_type": "code",
   "execution_count": 1,
   "metadata": {},
   "outputs": [],
   "source": [
    "import os\n",
    "import matplotlib.pyplot as plt\n",
    "import seaborn as sns\n",
    "import pathlib\n",
    "import re\n",
    "from tqdm import tqdm\n",
    "from datetime import datetime\n",
    "from nltk.corpus import stopwords\n",
    "import pandas as pd\n",
    "import numpy as np\n",
    "from tensorflow.keras.preprocessing.text import Tokenizer\n",
    "from keras.preprocessing import sequence\n",
    "import keras\n",
    "from tensorflow.keras.utils import to_categorical"
   ]
  },
  {
   "cell_type": "code",
   "execution_count": 2,
   "metadata": {
    "colab": {},
    "colab_type": "code",
    "id": "64U9NzWFYv0V",
    "outputId": "f3f19ed2-f637-4a8c-cff7-40a603025e96"
   },
   "outputs": [],
   "source": [
    "### count plot of all the class labels.\n",
    "dir_path = \"documents/\"\n",
    "classes = {}\n",
    "for file in os.listdir(dir_path):\n",
    "    class_name = file.split(\"_\")\n",
    "    if class_name[0] in classes:\n",
    "        classes[class_name[0]] +=1\n",
    "    else:\n",
    "        classes[class_name[0]]=0\n",
    "    "
   ]
  },
  {
   "cell_type": "code",
   "execution_count": 3,
   "metadata": {},
   "outputs": [
    {
     "data": {
      "image/png": "[encoded data removed]",
      "text/plain": [
       "<Figure size 1152x720 with 1 Axes>"
      ]
     },
     "metadata": {
      "needs_background": "light"
     },
     "output_type": "display_data"
    }
   ],
   "source": [
    "x = list(classes.keys())\n",
    "y = list(classes.values())\n",
    "plt.figure(figsize=(16,10))\n",
    "plt.title(\"Counts of classes\")\n",
    "sns.barplot(x = y,y = x)\n",
    "plt.show()"
   ]
  },
  {
   "cell_type": "markdown",
   "metadata": {
    "colab_type": "text",
    "id": "VlqYFVI3Yv0k"
   },
   "source": [
    "#### sample document\n",
    "<pre>\n",
    "<font color='blue'>\n",
    "Subject: A word of advice\n",
    "From: jcopelan@nyx.cs.du.edu (The One and Only)\n",
    "\n",
    "In article < 65882@mimsy.umd.edu > mangoe@cs.umd.edu (Charley Wingate) writes:\n",
    ">\n",
    ">I've said 100 times that there is no \"alternative\" that should think you\n",
    ">might have caught on by now.  And there is no \"alternative\", but the point\n",
    ">is, \"rationality\" isn't an alternative either.  The problems of metaphysical\n",
    ">and religious knowledge are unsolvable-- or I should say, humans cannot\n",
    ">solve them.\n",
    "\n",
    "How does that saying go: Those who say it can't be done shouldn't interrupt\n",
    "those who are doing it.\n",
    "\n",
    "Jim\n",
    "--\n",
    "Have you washed your brain today?\n",
    "</font>\n",
    "</pre>"
   ]
  },
  {
   "cell_type": "markdown",
   "metadata": {},
   "source": [
    "### Processing\n",
    "<pre>\n",
    "\n",
    "<font color=\"Red\"><b>Point of Action</b></font>\n",
    "- Since we are classifying the data that are mail or article so every thing has head,body.So task can be divided into 2.\n",
    "- For head we use subject and mail.\n",
    "- For body we preprocess everything and save all.\n",
    "<br>\n",
    "<font color=\"Blue\"><b>TEXT PREPROCESS TECHNIQUE</b></font>\n",
    "\n",
    "1. Get mail from the Text filter out all the punctuation, @ from and front part before @. as it usually contain name.\n",
    "2. Get part that contain only Subject.\n",
    "3. For Body filter out : \n",
    "    - Punctutaion.\n",
    "    - Name of person.\n",
    "    - Number if any.\n",
    "    - Lower down the case.\n",
    "    - Replace shortcut with its full form.\n",
    "    - Remove space.\n",
    "    - Remove newline.\n",
    "    - Remove tabs if any.\n",
    "    - Remove words less than or equal to 2.\n",
    "    - Remove Stopwords - <font color=\"Brown\">Using NLTK for stopword</font>.\n",
    "    - Remove words greater than 20.\n",
    "</pre>\n"
   ]
  },
  {
   "cell_type": "markdown",
   "metadata": {},
   "source": [
    "### For emails"
   ]
  },
  {
   "cell_type": "code",
   "execution_count": 87,
   "metadata": {},
   "outputs": [
    {
     "name": "stderr",
     "output_type": "stream",
     "text": [
      "100%|██████████| 18828/18828 [00:16<00:00, 1174.81it/s]"
     ]
    },
    {
     "name": "stdout",
     "output_type": "stream",
     "text": [
      "Done\n",
      "Time taken :  0:00:16.054268\n"
     ]
    },
    {
     "name": "stderr",
     "output_type": "stream",
     "text": [
      "\n"
     ]
    }
   ],
   "source": [
    "import re\n",
    "start_time = datetime.now()\n",
    "mails = []\n",
    "for i in tqdm(os.listdir(dir_path)):\n",
    "    processed_mail = \"\"\n",
    "    with open(dir_path+\"/\" + i,\"r\") as f:\n",
    "        text = f.read()\n",
    "        email = re.findall('[a-zA-Z0-9_.+-]+@[a-zA-Z0-9-]+\\.[a-zA-Z0-9-.]+',text)\n",
    "        # since first word in email are name so not so use full and .com .uk in mail are also not use ful so getting only the \n",
    "        # domain name for the email\n",
    "        for mail in email:\n",
    "            text = text.replace(mail,\" \")\n",
    "            mail = mail.split(\"@\")\n",
    "            mail = mail[1].split(\".\")\n",
    "            for m in mail:\n",
    "                if len(m)>2 and m != \"com\":\n",
    "                    m = m.lower()\n",
    "                    processed_mail += m + \" \" \n",
    "                    \n",
    "        mails.append(processed_mail.strip())\n",
    "        \n",
    "   \n",
    "    # writting to the file\n",
    "    with open(dir_path+\"/\" + i,\"w\") as f:\n",
    "        f.write(text)\n",
    "\n",
    "print(\"Done\")\n",
    "print(\"Time taken : \", datetime.now()-start_time)"
   ]
  },
  {
   "cell_type": "code",
   "execution_count": 197,
   "metadata": {},
   "outputs": [
    {
     "data": {
      "text/plain": [
       "'mantis netcom mantis'"
      ]
     },
     "execution_count": 197,
     "metadata": {},
     "output_type": "execute_result"
    }
   ],
   "source": [
    "mails[0]"
   ]
  },
  {
   "cell_type": "markdown",
   "metadata": {},
   "source": [
    "### For Subjects"
   ]
  },
  {
   "cell_type": "code",
   "execution_count": 194,
   "metadata": {},
   "outputs": [
    {
     "name": "stderr",
     "output_type": "stream",
     "text": [
      "100%|██████████| 18828/18828 [00:15<00:00, 1246.70it/s]\n"
     ]
    }
   ],
   "source": [
    "# Reading the after processing for mails\n",
    "with open(dir_path+\"/\" + \"alt.atheism_51060.txt\",\"r\") as f:  \n",
    "    text = f.readlines()\n",
    "   \n",
    "subjects = []\n",
    "one = []\n",
    "to_remove_sub = []\n",
    "for i in tqdm(os.listdir(dir_path)):\n",
    "    one = []\n",
    "    without_sub = \"\"\n",
    "    with open(dir_path+\"/\" + i,\"r\") as f:  \n",
    "        text = f.readlines()\n",
    "        for t in text:\n",
    "           \n",
    "            orgi_t = t\n",
    "            t = t.lower() \n",
    "            if t.startswith(\"subject:\"):\n",
    "         \n",
    "                to_remove_sub.append(orgi_t)\n",
    "                t = re.sub(\"subject:\",\"\",t) # removing subject\n",
    "                t = re.sub(\"re:\",\"\",t) # remoing re  \n",
    "                t = re.sub(\":\",\"\",t) # removing :\n",
    "                t = t.replace(\"′\", \"'\").replace(\"’\", \"'\")\\\n",
    "               .replace(\"won't\", \"will not\").replace(\"cannot\", \"can not\").replace(\"can't\", \"can not\")\\\n",
    "               .replace(\"n't\", \" not\").replace(\"what's\", \"what is\").replace(\"it's\", \"it is\")\\\n",
    "               .replace(\"'ve\", \" have\").replace(\"i'm\", \"i am\").replace(\"'re\", \" are\")\\\n",
    "               .replace(\"he's\", \"he is\").replace(\"she's\", \"she is\")\\\n",
    "               .replace(\"'ll\", \" will\")  # replacing values\n",
    "                t = re.sub(r'[^\\w\\s]', ' ', t) # removing punctuation\n",
    "                t = re.sub(r\"[^a-zA-Z0-9]+\",\" \",t) # removing special charater \n",
    "                t = re.sub(\"\\n\",\" \",t) # removing new line\n",
    "                t = re.sub(\"\\t\",\" \",t)  # removing tabs  \n",
    "                t = re.sub(\"\\S*\\d\\S*\", \" \", t).strip() # removing numbers\n",
    "                if t not in one:\n",
    "                    one.append(t)\n",
    "                    \n",
    "            else:\n",
    "                # also remove the line from, to , write to as it conatin mail which is already extraacted\n",
    "                if not t.startswith(\"from:\") and (not t.startswith(\"write to:\")) and t!=\"\\n\":\n",
    "                   \n",
    "                    without_sub  += orgi_t\n",
    "                \n",
    "                             \n",
    "        t = \" \".join(one).strip()\n",
    "        subjects.append(t)\n",
    "        \n",
    "    with open(dir_path+\"/\" + i,\"w\") as f: \n",
    "        f.write(without_sub)\n",
    "#     print(without_sub)\n",
    "   \n",
    "#     break\n",
    "   \n",
    "    \n",
    "                "
   ]
  },
  {
   "cell_type": "code",
   "execution_count": 196,
   "metadata": {},
   "outputs": [
    {
     "data": {
      "text/plain": [
       "'alt atheism faq introduction to atheism'"
      ]
     },
     "execution_count": 196,
     "metadata": {},
     "output_type": "execute_result"
    }
   ],
   "source": [
    "subjects[1]"
   ]
  },
  {
   "cell_type": "code",
   "execution_count": 223,
   "metadata": {
    "colab": {},
    "colab_type": "code",
    "id": "KavKDD9FYv0p",
    "outputId": "0b87ab7b-46df-4995-eaca-4f5831ad223e"
   },
   "outputs": [
    {
     "data": {
      "text/plain": [
       "'AAIC-The course that gets you HIRED'"
      ]
     },
     "execution_count": 223,
     "metadata": {},
     "output_type": "execute_result"
    }
   ],
   "source": [
    "x = \"AAIC-The course that gets you HIRED(AAIC - Der Kurs, der Sie anstellt)\"\n",
    "re.sub(\"[\\(\\[].*?[\\)\\]]\", \"\", x)"
   ]
  },
  {
   "cell_type": "code",
   "execution_count": 230,
   "metadata": {
    "colab": {},
    "colab_type": "code",
    "id": "obReqs55Yv0v",
    "outputId": "10770414-9be0-4d63-9587-5363a8c10c4d"
   },
   "outputs": [
    {
     "data": {
      "text/plain": [
       "'their is the'"
      ]
     },
     "execution_count": 230,
     "metadata": {},
     "output_type": "execute_result"
    }
   ],
   "source": [
    "x = \"their is the <life is hard sdfksdkflskdlgskldgkslkglskdg> [ok is ha] (ofkdafl)\"\n",
    "re.sub(\"[\\<\\(\\[].*?[\\)\\]\\>]\", \"\", x).strip()\n",
    "\n"
   ]
  },
  {
   "cell_type": "code",
   "execution_count": 232,
   "metadata": {},
   "outputs": [
    {
     "data": {
      "text/plain": [
       "'word monty thon'"
      ]
     },
     "execution_count": 232,
     "metadata": {},
     "output_type": "execute_result"
    }
   ],
   "source": [
    "blah = \"word word: monty py: thon\"\n",
    "re.sub(r'\\w+:\\s?','',blah)"
   ]
  },
  {
   "cell_type": "code",
   "execution_count": 234,
   "metadata": {},
   "outputs": [
    {
     "data": {
      "text/plain": [
       "' kjhkjhkjh '"
      ]
     },
     "execution_count": 234,
     "metadata": {},
     "output_type": "execute_result"
    }
   ],
   "source": [
    "t = \"_kjhkjhkjh_\"\n",
    "re.sub(r\"[^a-zA-Z0-9]+\",\" \",t)"
   ]
  },
  {
   "cell_type": "markdown",
   "metadata": {},
   "source": [
    "### Whole text preprocess"
   ]
  },
  {
   "cell_type": "code",
   "execution_count": 286,
   "metadata": {},
   "outputs": [],
   "source": [
    "stopword = stopwords.words('english')\n",
    "stopword = set(stopword)\n",
    "final_text = []\n",
    "def preprocess(dir_path):\n",
    "    \n",
    "    for i in tqdm(os.listdir(dir_path)):\n",
    "        processed_text = \"\"\n",
    "        with open(dir_path+\"/\" + i,\"r\") as f:\n",
    "            #reading the file\n",
    "            text = f.read()\n",
    "                     \n",
    "            # lower the text\n",
    "            text =text.lower()\n",
    "            # remove all the thing inside bracket\n",
    "            text = re.sub(\"[\\<\\(\\[].*?[\\)\\]\\>]\", \"\", text).strip()\n",
    "            # change shortform \n",
    "            text = text.replace(\"′\", \"'\").replace(\"’\", \"'\")\\\n",
    "                       .replace(\"won't\", \"will not\").replace(\"cannot\", \"can not\").replace(\"can't\", \"can not\")\\\n",
    "                       .replace(\"n't\", \" not\").replace(\"what's\", \"what is\").replace(\"it's\", \"it is\")\\\n",
    "                       .replace(\"'ve\", \" have\").replace(\"i'm\", \"i am\").replace(\"'re\", \" are\")\\\n",
    "                       .replace(\"he's\", \"he is\").replace(\"she's\", \"she is\")\\\n",
    "                       .replace(\"'ll\", \" will\") \n",
    "            # remove special character  and punctuation\n",
    "            text = re.sub(r'[^\\w\\s]', ' ', text) \n",
    "            text = re.sub(r\"[^a-zA-Z0-9]+\",\" \",text) \n",
    "            # remove new line, tabs, \\ , -\n",
    "            text = re.sub(\"\\n\",\" \",text)\n",
    "            text = re.sub(\"\\t\",\" \",text) \n",
    "            text = re.sub(\"-\",\" \",text)\n",
    "            # reject everything that ends with : as they are subjects \n",
    "            text = re.sub(r'\\w+:\\s?','',text)\n",
    "            # remove numbers\n",
    "            text = re.sub(\"\\S*\\d\\S*\", \" \", text)\n",
    "            # remove multiple spaces\n",
    "            text = re.sub('\\\\s+', ' ', text)\n",
    "                 \n",
    "            # remove word that are less than one \n",
    "            for word in text.split(\" \"):\n",
    "                if (len(word)>2) and (word not in stopword) and (len(word)<=20):\n",
    "                    \n",
    "                    processed_text +=word + \" \"\n",
    "                \n",
    "        final_text.append(processed_text.strip())  \n",
    "        \n",
    "\n",
    "        \n",
    "        \n",
    "    \n",
    "\n",
    "            \n",
    "\n",
    "    \n",
    "    \n",
    "    "
   ]
  },
  {
   "cell_type": "code",
   "execution_count": 287,
   "metadata": {},
   "outputs": [
    {
     "name": "stderr",
     "output_type": "stream",
     "text": [
      "100%|██████████| 18828/18828 [00:10<00:00, 1764.97it/s]\n"
     ]
    }
   ],
   "source": [
    "preprocess(dir_path)\n"
   ]
  },
  {
   "cell_type": "markdown",
   "metadata": {},
   "source": [
    "### Combining subjects, emails and text together"
   ]
  },
  {
   "cell_type": "code",
   "execution_count": 307,
   "metadata": {},
   "outputs": [],
   "source": [
    "data_frame = pd.DataFrame()\n",
    "data_frame[\"subject\"] = subjects\n",
    "data_frame[\"mails\"] = mails\n",
    "data_frame[\"processed_text\"] = final_text\n",
    "# print(final_text),len(subjects),len(mails)\n",
    "data_frame.head()\n",
    "## saving the dataframe\n",
    "data_frame.to_csv(\"final_data.csv\",index=False)\n"
   ]
  },
  {
   "cell_type": "code",
   "execution_count": 16,
   "metadata": {},
   "outputs": [
    {
     "data": {
      "text/html": [
       "<div>\n",
       "<style scoped>\n",
       "    .dataframe tbody tr th:only-of-type {\n",
       "        vertical-align: middle;\n",
       "    }\n",
       "\n",
       "    .dataframe tbody tr th {\n",
       "        vertical-align: top;\n",
       "    }\n",
       "\n",
       "    .dataframe thead th {\n",
       "        text-align: right;\n",
       "    }\n",
       "</style>\n",
       "<table border=\"1\" class=\"dataframe\">\n",
       "  <thead>\n",
       "    <tr style=\"text-align: right;\">\n",
       "      <th></th>\n",
       "      <th>subject</th>\n",
       "      <th>mails</th>\n",
       "      <th>processed_text</th>\n",
       "    </tr>\n",
       "  </thead>\n",
       "  <tbody>\n",
       "    <tr>\n",
       "      <th>0</th>\n",
       "      <td>alt atheism faq atheist resources</td>\n",
       "      <td>mantis netcom mantis</td>\n",
       "      <td>archive name atheism resources alt atheism arc...</td>\n",
       "    </tr>\n",
       "    <tr>\n",
       "      <th>1</th>\n",
       "      <td>alt atheism faq introduction to atheism</td>\n",
       "      <td>mantis mantis mantis</td>\n",
       "      <td>archive name atheism introduction alt atheism ...</td>\n",
       "    </tr>\n",
       "    <tr>\n",
       "      <th>2</th>\n",
       "      <td>gospel dating</td>\n",
       "      <td>dbstu1 tu-bs mimsy umd edu umd edu</td>\n",
       "      <td>article writes well john quite different neces...</td>\n",
       "    </tr>\n",
       "    <tr>\n",
       "      <th>3</th>\n",
       "      <td>university violating separation of church state</td>\n",
       "      <td>mantis kepler unh edu</td>\n",
       "      <td>writes recently ras ordered none resisted care...</td>\n",
       "    </tr>\n",
       "    <tr>\n",
       "      <th>4</th>\n",
       "      <td>soc motss et al princeton axes matching funds ...</td>\n",
       "      <td>watson ibm com harder ccr-p ida org harder ccr...</td>\n",
       "      <td>article writes however hate economic terrorism...</td>\n",
       "    </tr>\n",
       "  </tbody>\n",
       "</table>\n",
       "</div>"
      ],
      "text/plain": [
       "                                             subject  \\\n",
       "0                  alt atheism faq atheist resources   \n",
       "1            alt atheism faq introduction to atheism   \n",
       "2                                      gospel dating   \n",
       "3    university violating separation of church state   \n",
       "4  soc motss et al princeton axes matching funds ...   \n",
       "\n",
       "                                               mails  \\\n",
       "0                               mantis netcom mantis   \n",
       "1                               mantis mantis mantis   \n",
       "2                 dbstu1 tu-bs mimsy umd edu umd edu   \n",
       "3                              mantis kepler unh edu   \n",
       "4  watson ibm com harder ccr-p ida org harder ccr...   \n",
       "\n",
       "                                      processed_text  \n",
       "0  archive name atheism resources alt atheism arc...  \n",
       "1  archive name atheism introduction alt atheism ...  \n",
       "2  article writes well john quite different neces...  \n",
       "3  writes recently ras ordered none resisted care...  \n",
       "4  article writes however hate economic terrorism...  "
      ]
     },
     "execution_count": 16,
     "metadata": {},
     "output_type": "execute_result"
    }
   ],
   "source": [
    "df = pd.read_csv(\"final_data.csv\")\n",
    "df.head()"
   ]
  },
  {
   "cell_type": "code",
   "execution_count": 17,
   "metadata": {},
   "outputs": [],
   "source": [
    "# combining the subject , mail and processd_text\n",
    "df[\"txt_sub_emails\"] = df[\"subject\"] + \" \" + df[\"mails\"] + \" \" + df[\"processed_text\"]\n",
    "# adding class to the database\n",
    "data_path = \"documents\"\n",
    "classes = []\n",
    "for doc in os.listdir(data_path):\n",
    "    \n",
    "    class_name = doc.split(\"_\")[0]\n",
    "    classes.append(class_name)\n",
    "\n",
    "df[\"classes\"] = classes"
   ]
  },
  {
   "cell_type": "code",
   "execution_count": 18,
   "metadata": {},
   "outputs": [
    {
     "data": {
      "text/plain": [
       "subject            True\n",
       "mails              True\n",
       "processed_text     True\n",
       "txt_sub_emails     True\n",
       "classes           False\n",
       "dtype: bool"
      ]
     },
     "execution_count": 18,
     "metadata": {},
     "output_type": "execute_result"
    }
   ],
   "source": [
    "df.isnull().any()"
   ]
  },
  {
   "cell_type": "code",
   "execution_count": 19,
   "metadata": {},
   "outputs": [],
   "source": [
    "df.dropna(inplace=True,)\n"
   ]
  },
  {
   "cell_type": "code",
   "execution_count": 20,
   "metadata": {},
   "outputs": [
    {
     "data": {
      "text/plain": [
       "subject           0\n",
       "mails             0\n",
       "processed_text    0\n",
       "txt_sub_emails    0\n",
       "classes           0\n",
       "dtype: int64"
      ]
     },
     "execution_count": 20,
     "metadata": {},
     "output_type": "execute_result"
    }
   ],
   "source": [
    "df.isnull().sum()"
   ]
  },
  {
   "cell_type": "code",
   "execution_count": 21,
   "metadata": {},
   "outputs": [],
   "source": [
    "#"
   ]
  },
  {
   "cell_type": "code",
   "execution_count": 22,
   "metadata": {},
   "outputs": [
    {
     "name": "stdout",
     "output_type": "stream",
     "text": [
      "Total data :  18712\n",
      "No of train data :  14034\n",
      "No of val data :  4678\n"
     ]
    }
   ],
   "source": [
    "### spliting the dataset\n",
    "from sklearn.model_selection import train_test_split\n",
    "\n",
    "x_data = df[\"txt_sub_emails\"]\n",
    "y_data = df[\"classes\"]\n",
    "\n",
    "train_x , val_x , train_y, val_y = train_test_split(x_data,y_data,train_size=0.75,shuffle=True,stratify=y_data)\n",
    "print(\"Total data : \",df.shape[0])\n",
    "print(\"No of train data : \", train_x.shape[0])\n",
    "print(\"No of val data : \", val_x.shape[0])"
   ]
  },
  {
   "cell_type": "code",
   "execution_count": 33,
   "metadata": {},
   "outputs": [
    {
     "data": {
      "text/plain": [
       "245      the inimitable rushdie an anecdote about islam...\n",
       "17592    clinton press briefing by george stephanopoulo...\n",
       "14852    some questions from a new christian empros emp...\n",
       "17054    freedom in u s a surya ucla edu brown edu virg...\n",
       "43       political atheists cwru edu gap caltech edu cc...\n",
       "                               ...                        \n",
       "11008    secret algorithm clipper chip and crypto key e...\n",
       "13379    a good place for back surgery panix cbnewsg at...\n",
       "9570     bob vesterman s plan to generate fan interest ...\n",
       "13994    keeping spacecraft on after funding cuts acces...\n",
       "645      alt atheism faq constructing a logical argumen...\n",
       "Name: txt_sub_emails, Length: 14034, dtype: object"
      ]
     },
     "execution_count": 33,
     "metadata": {},
     "output_type": "execute_result"
    }
   ],
   "source": [
    "train_x.shape,train_y.shape\n"
   ]
  },
  {
   "cell_type": "code",
   "execution_count": 24,
   "metadata": {},
   "outputs": [
    {
     "name": "stdout",
     "output_type": "stream",
     "text": [
      "Maximum :  17\n",
      "Maximum :  44659\n"
     ]
    }
   ],
   "source": [
    "def count_min_max_sent_word(dataframe):\n",
    "    min_sent = 1000000\n",
    "    max_sent = -100000\n",
    "    for sent in dataframe:\n",
    "        sent = str(sent)\n",
    "        min_sent = min(min_sent,len(sent))\n",
    "        max_sent = max(max_sent,len(sent))\n",
    "        if len(sent)==3:\n",
    "            print(sent)\n",
    "            break\n",
    "    \n",
    "            \n",
    "        \n",
    "    print(\"Maximum : \", min_sent)\n",
    "    print(\"Maximum : \", max_sent)\n",
    "        \n",
    "count_min_max_sent_word(x_data)"
   ]
  },
  {
   "cell_type": "markdown",
   "metadata": {},
   "source": [
    "#### Char level tokenizing\n"
   ]
  },
  {
   "cell_type": "code",
   "execution_count": 34,
   "metadata": {},
   "outputs": [
    {
     "name": "stderr",
     "output_type": "stream",
     "text": [
      "100%|██████████| 14034/14034 [00:01<00:00, 11307.57it/s]\n",
      "100%|██████████| 4678/4678 [00:00<00:00, 12815.63it/s]"
     ]
    },
    {
     "name": "stdout",
     "output_type": "stream",
     "text": [
      "Total time taken :  0:00:01.609828\n",
      "Oringinal train size:  14034 After char level :  14034\n",
      "Original val size :  4678 After char level :  4678\n"
     ]
    },
    {
     "name": "stderr",
     "output_type": "stream",
     "text": [
      "\n"
     ]
    }
   ],
   "source": [
    "from datetime import datetime\n",
    "start_time = datetime.now()\n",
    "df_char_train = []\n",
    "for i in tqdm(train_x):\n",
    "    row_char = []\n",
    "    for char in i:\n",
    "        row_char.append(char)\n",
    "    df_char_train.append(row_char)\n",
    "\n",
    "## validation data\n",
    "df_char_val = []\n",
    "for i in tqdm(val_x):\n",
    "    row_char = []\n",
    "    for char in i:\n",
    "        row_char.append(char)\n",
    "    df_char_val.append(row_char)\n",
    "    \n",
    "\n",
    "\n",
    "    \n",
    "print(\"Total time taken : \", datetime.now()-start_time)\n",
    "print(\"Oringinal train size: \",train_x.shape[0],\"After char level : \", len(df_char_train))\n",
    "print(\"Original val size : \",val_x.shape[0],\"After char level : \", len(df_char_val))\n",
    "    "
   ]
  },
  {
   "cell_type": "code",
   "execution_count": null,
   "metadata": {},
   "outputs": [],
   "source": []
  },
  {
   "cell_type": "markdown",
   "metadata": {},
   "source": [
    "### Tokenizing for word level incoding"
   ]
  },
  {
   "cell_type": "code",
   "execution_count": null,
   "metadata": {},
   "outputs": [],
   "source": [
    "def make_string(x):\n",
    "    return str(x)\n",
    "df[\"txt_sub_emails\"] = df[\"txt_sub_emails\"].apply(make_string)\n",
    "x_data = np.array(df[\"txt_sub_emails\"])\n",
    "tokenizer_data = Tokenizer(num_words=20000)\n",
    "tokenizer_data.fit_on_texts(x_data)\n",
    "\n",
    "# for the train data\n",
    "text_sequences_train = tokenizer_data.texts_to_sequences(train_x)\n",
    "# for the valalidation data\n",
    "text_sequences_val = tokenizer_data.texts_to_sequences(val_x)"
   ]
  },
  {
   "cell_type": "markdown",
   "metadata": {},
   "source": [
    "### Tokenizing for char-level encoding"
   ]
  },
  {
   "cell_type": "code",
   "execution_count": 43,
   "metadata": {},
   "outputs": [],
   "source": [
    "tokenizer_data = Tokenizer(num_words=20000)\n",
    "tokenizer_data.fit_on_texts(df_char_train)\n",
    "\n",
    "# for the train data\n",
    "text_sequences_train_char = tokenizer_data.texts_to_sequences(df_char_train)\n",
    "# for the valalidation data\n",
    "text_sequences_val_char = tokenizer_data.texts_to_sequences(df_char_val)"
   ]
  },
  {
   "cell_type": "code",
   "execution_count": null,
   "metadata": {},
   "outputs": [],
   "source": []
  },
  {
   "cell_type": "markdown",
   "metadata": {},
   "source": [
    "### Creating the token for unique category"
   ]
  },
  {
   "cell_type": "code",
   "execution_count": 41,
   "metadata": {},
   "outputs": [],
   "source": [
    "from sklearn.preprocessing import OneHotEncoder\n",
    "\n",
    "## ---------------- for train data-------------------------\n",
    "y_train = train_y.values\n",
    "##------------------------changing into 2 dim ----------------\n",
    "y_train = y_train.reshape((y_train.shape[0],1))\n",
    "## ------------ for validation data---------------\n",
    "y_val = val_y.values\n",
    "## ------------ changing into 2 dim\n",
    "y_val = y_val.reshape((y_val.shape[0],1))\n",
    "# define one hot encoding\n",
    "encoder = OneHotEncoder(sparse=False)\n",
    "# transform data\n",
    "onehot = encoder.fit(y_train.reshape((y_train.shape[0],1)))\n",
    "y_train = onehot.transform(y_train) # for train data\n",
    "y_val = onehot.transform(y_val) # for validation data"
   ]
  },
  {
   "cell_type": "code",
   "execution_count": 47,
   "metadata": {},
   "outputs": [
    {
     "name": "stdout",
     "output_type": "stream",
     "text": [
      "The y_train  shape :  14034\n",
      "The val shape  shape :  4678\n"
     ]
    }
   ],
   "source": [
    "print(\"The y_train  shape : \", y_train.shape[0])\n",
    "print(\"The val shape  shape : \",y_val.shape[0])\n",
    "\n",
    "assert y_train.shape[0]==len(text_sequences_train_char) and y_val.shape[0]== len(text_sequences_val_char)"
   ]
  },
  {
   "cell_type": "code",
   "execution_count": 48,
   "metadata": {},
   "outputs": [
    {
     "name": "stdout",
     "output_type": "stream",
     "text": [
      "After padding shape of train data :  (14034, 100)\n",
      "\n",
      "The data in vector : \n"
     ]
    }
   ],
   "source": [
    "max_review_length = 100\n",
    "X_train = sequence.pad_sequences(text_sequences_train_char, maxlen=max_review_length)\n",
    "X_val = sequence.pad_sequences(text_sequences_val_char, maxlen=max_review_length)\n",
    "\n",
    "print(\"After padding shape of train data : \",X_train.shape)\n",
    "print(\"\")\n",
    "print(\"The data in vector : \")\n"
   ]
  },
  {
   "cell_type": "markdown",
   "metadata": {},
   "source": [
    "#### Word Embedding Glove Vector"
   ]
  },
  {
   "cell_type": "code",
   "execution_count": 90,
   "metadata": {},
   "outputs": [],
   "source": [
    "f = open('glove.6B.100d.txt',encoding=\"utf8\")\n",
    "embeddings_index = dict()\n",
    "\n",
    "for line in f:\n",
    "    \n",
    "    values = line.split()\n",
    "    word = values[0]\n",
    "    coefs = values[1:]\n",
    "    embeddings_index[word] = coefs\n"
   ]
  },
  {
   "cell_type": "markdown",
   "metadata": {},
   "source": [
    "#### Char Embedding Glov Vector"
   ]
  },
  {
   "cell_type": "code",
   "execution_count": 74,
   "metadata": {},
   "outputs": [
    {
     "name": "stdout",
     "output_type": "stream",
     "text": [
      "{' ': 1, 'e': 2, 'a': 3, 'i': 4, 's': 5, 't': 6, 'n': 7, 'r': 8, 'o': 9, 'l': 10, 'c': 11, 'd': 12, 'u': 13, 'm': 14, 'p': 15, 'g': 16, 'h': 17, 'y': 18, 'w': 19, 'b': 20, 'f': 21, 'v': 22, 'k': 23, 'x': 24, 'j': 25, 'z': 26, 'q': 27, '1': 28, '-': 29, '2': 30, '0': 31, '3': 32, '6': 33, '4': 34, '5': 35, '8': 36, '7': 37, '9': 38}\n"
     ]
    }
   ],
   "source": [
    "f = open(\"glove_char_300d.txt\",encoding=\"utf8\")\n",
    "embeddings_index_char = dict()\n",
    "\n",
    "for line in f:\n",
    "    values = line.split()\n",
    "    char = values[0]\n",
    "    vectors = values[1:]\n",
    "    assert len(vectors) == 300\n",
    "    embeddings_index_char[char] = vectors\n",
    "    \n",
    "# print(embeddings_index_char.keys) \n",
    "print(tokenizer_data.word_index)"
   ]
  },
  {
   "cell_type": "markdown",
   "metadata": {},
   "source": [
    "### Word Level embedding`"
   ]
  },
  {
   "cell_type": "code",
   "execution_count": 93,
   "metadata": {},
   "outputs": [
    {
     "name": "stdout",
     "output_type": "stream",
     "text": [
      "Total token for the data :  94253\n"
     ]
    }
   ],
   "source": [
    "# embedding_matrix\n",
    "val =  len(tokenizer_data.word_index)\n",
    "print(\"Total token for the data : \",val)"
   ]
  },
  {
   "cell_type": "code",
   "execution_count": 94,
   "metadata": {},
   "outputs": [],
   "source": [
    "vocab_size = len(tokenizer_data.word_index)\n",
    "embedding_matrix = np.zeros((vocab_size, 100))\n",
    "for word, i in tokenizer_data.word_index.items():\n",
    "    embedding_vector = embeddings_index.get(word)\n",
    "    if embedding_vector is not None:\n",
    "        embedding_matrix[i] = embedding_vector"
   ]
  },
  {
   "cell_type": "code",
   "execution_count": 96,
   "metadata": {},
   "outputs": [
    {
     "name": "stdout",
     "output_type": "stream",
     "text": [
      "The shape of embedding matrix is : (94253, 100)\n"
     ]
    },
    {
     "data": {
      "text/plain": [
       "array([[    0,     0,     0,     0,     0,     0,     0,     0,     0,\n",
       "            0,     0,     0,     0,     0,     0,     0,     0,     0,\n",
       "            0,     0,     0,     0,     0,     0,     0,     0,     0,\n",
       "            0,     0,     0,     0,     0,     0,     0,     0,     0,\n",
       "            0,     0,     0,     0,     0,     0,     0,     0,     0,\n",
       "            0,     0,     0,     0,     0,     0,     0,     0,     0,\n",
       "            0,     0,     0,     0,     0,     0,     0,     0,     0,\n",
       "         7064,  6316,     1,  6990,  7064,  6316,     1,  5690,  1474,\n",
       "          370,  2760,   107,  1827,    32,    58,  5690,  1474, 17937,\n",
       "          236,  1319,  1267,     2,     7,   503,    27,    63,   524,\n",
       "           41,   174,   524, 12465, 17937,   347,  6316,  5769,  2690,\n",
       "          174]])"
      ]
     },
     "execution_count": 96,
     "metadata": {},
     "output_type": "execute_result"
    }
   ],
   "source": [
    "print(\"The shape of embedding matrix is :\",embedding_matrix.shape)\n"
   ]
  },
  {
   "cell_type": "markdown",
   "metadata": {},
   "source": [
    "### Char level embedding"
   ]
  },
  {
   "cell_type": "code",
   "execution_count": 78,
   "metadata": {},
   "outputs": [],
   "source": [
    "vocab_size = len(tokenizer_data.word_index)\n",
    "embedding_matrix = np.zeros((vocab_size+1, 300))\n",
    "for word, i in tokenizer_data.word_index.items():\n",
    "    embedding_vector = embeddings_index_char.get(word)\n",
    "    if embedding_vector is not None:\n",
    "        embedding_matrix[i] = embedding_vector"
   ]
  },
  {
   "cell_type": "code",
   "execution_count": 80,
   "metadata": {},
   "outputs": [
    {
     "data": {
      "text/plain": [
       "array([0., 0., 0., 0., 0., 0., 0., 0., 0., 0., 0., 0., 0., 0., 0., 0., 0.,\n",
       "       0., 0., 0., 0., 0., 0., 0., 0., 0., 0., 0., 0., 0., 0., 0., 0., 0.,\n",
       "       0., 0., 0., 0., 0., 0., 0., 0., 0., 0., 0., 0., 0., 0., 0., 0., 0.,\n",
       "       0., 0., 0., 0., 0., 0., 0., 0., 0., 0., 0., 0., 0., 0., 0., 0., 0.,\n",
       "       0., 0., 0., 0., 0., 0., 0., 0., 0., 0., 0., 0., 0., 0., 0., 0., 0.,\n",
       "       0., 0., 0., 0., 0., 0., 0., 0., 0., 0., 0., 0., 0., 0., 0., 0., 0.,\n",
       "       0., 0., 0., 0., 0., 0., 0., 0., 0., 0., 0., 0., 0., 0., 0., 0., 0.,\n",
       "       0., 0., 0., 0., 0., 0., 0., 0., 0., 0., 0., 0., 0., 0., 0., 0., 0.,\n",
       "       0., 0., 0., 0., 0., 0., 0., 0., 0., 0., 0., 0., 0., 0., 0., 0., 0.,\n",
       "       0., 0., 0., 0., 0., 0., 0., 0., 0., 0., 0., 0., 0., 0., 0., 0., 0.,\n",
       "       0., 0., 0., 0., 0., 0., 0., 0., 0., 0., 0., 0., 0., 0., 0., 0., 0.,\n",
       "       0., 0., 0., 0., 0., 0., 0., 0., 0., 0., 0., 0., 0., 0., 0., 0., 0.,\n",
       "       0., 0., 0., 0., 0., 0., 0., 0., 0., 0., 0., 0., 0., 0., 0., 0., 0.,\n",
       "       0., 0., 0., 0., 0., 0., 0., 0., 0., 0., 0., 0., 0., 0., 0., 0., 0.,\n",
       "       0., 0., 0., 0., 0., 0., 0., 0., 0., 0., 0., 0., 0., 0., 0., 0., 0.,\n",
       "       0., 0., 0., 0., 0., 0., 0., 0., 0., 0., 0., 0., 0., 0., 0., 0., 0.,\n",
       "       0., 0., 0., 0., 0., 0., 0., 0., 0., 0., 0., 0., 0., 0., 0., 0., 0.,\n",
       "       0., 0., 0., 0., 0., 0., 0., 0., 0., 0., 0.])"
      ]
     },
     "execution_count": 80,
     "metadata": {},
     "output_type": "execute_result"
    }
   ],
   "source": [
    "embedding_matrix[0]"
   ]
  },
  {
   "cell_type": "code",
   "execution_count": 282,
   "metadata": {},
   "outputs": [
    {
     "name": "stdout",
     "output_type": "stream",
     "text": [
      "Model: \"model\"\n",
      "__________________________________________________________________________________________________\n",
      " Layer (type)                   Output Shape         Param #     Connected to                     \n",
      "==================================================================================================\n",
      " input_1 (InputLayer)           [(None, 100)]        0           []                               \n",
      "                                                                                                  \n",
      " embedding (Embedding)          (None, 100, 100)     9425300     ['input_1[0][0]']                \n",
      "                                                                                                  \n",
      " conv1 (Conv1D)                 (None, 94, 16)       11216       ['embedding[0][0]']              \n",
      "                                                                                                  \n",
      " conv2 (Conv1D)                 (None, 94, 16)       11216       ['embedding[0][0]']              \n",
      "                                                                                                  \n",
      " conv3 (Conv1D)                 (None, 94, 16)       11216       ['embedding[0][0]']              \n",
      "                                                                                                  \n",
      " concatenate (Concatenate)      (None, 94, 48)       0           ['conv1[0][0]',                  \n",
      "                                                                  'conv2[0][0]',                  \n",
      "                                                                  'conv3[0][0]']                  \n",
      "                                                                                                  \n",
      " max_pooling1d (MaxPooling1D)   (None, 47, 48)       0           ['concatenate[0][0]']            \n",
      "                                                                                                  \n",
      " aftepollconv1 (Conv1D)         (None, 41, 16)       5392        ['max_pooling1d[0][0]']          \n",
      "                                                                                                  \n",
      " afterpollconv2 (Conv1D)        (None, 41, 16)       5392        ['max_pooling1d[0][0]']          \n",
      "                                                                                                  \n",
      " afterpollconv3 (Conv1D)        (None, 41, 16)       5392        ['max_pooling1d[0][0]']          \n",
      "                                                                                                  \n",
      " concatenate_1 (Concatenate)    (None, 41, 48)       0           ['aftepollconv1[0][0]',          \n",
      "                                                                  'afterpollconv2[0][0]',         \n",
      "                                                                  'afterpollconv3[0][0]']         \n",
      "                                                                                                  \n",
      " max_pooling1d_1 (MaxPooling1D)  (None, 20, 48)      0           ['concatenate_1[0][0]']          \n",
      "                                                                                                  \n",
      " aftepollconv11 (Conv1D)        (None, 14, 16)       5392        ['max_pooling1d_1[0][0]']        \n",
      "                                                                                                  \n",
      " flatten (Flatten)              (None, 224)          0           ['aftepollconv11[0][0]']         \n",
      "                                                                                                  \n",
      " dropout (Dropout)              (None, 224)          0           ['flatten[0][0]']                \n",
      "                                                                                                  \n",
      " dense (Dense)                  (None, 20)           4500        ['dropout[0][0]']                \n",
      "                                                                                                  \n",
      " dense_1 (Dense)                (None, 20)           420         ['dense[0][0]']                  \n",
      "                                                                                                  \n",
      "==================================================================================================\n",
      "Total params: 9,485,436\n",
      "Trainable params: 60,136\n",
      "Non-trainable params: 9,425,300\n",
      "__________________________________________________________________________________________________\n"
     ]
    }
   ],
   "source": [
    "## creating the model\n",
    "from tensorflow.keras.models import Model, load_model,Sequential\n",
    "import tensorflow as tf\n",
    "\n",
    "tf.keras.backend.clear_session()\n",
    "      \n",
    "x_input= keras.layers.Input((100,)) \n",
    "x_inpu = keras.layers.Embedding(val,100,input_length=100,weights=[embedding_matrix],trainable=False)(x_input)\n",
    "conv1  = keras.layers.Conv1D(16,7,activation=\"relu\",name=\"conv1\")(x_inpu)\n",
    "conv2 = keras.layers.Conv1D(16,7,activation=\"relu\",name=\"conv2\")(x_inpu)\n",
    "conv3 = keras.layers.Conv1D(16,7,activation=\"relu\",name= \"conv3\")(x_inpu)\n",
    "merger = tf.keras.layers.Concatenate(axis=-1)([conv1, conv2,conv3])\n",
    "x_p = keras.layers.MaxPool1D()(merger)\n",
    "conv1  = keras.layers.Conv1D(16,7,activation=\"relu\",name=\"aftepollconv1\")(x_p)\n",
    "conv2 = keras.layers.Conv1D(16,7,activation=\"relu\",name=\"afterpollconv2\")(x_p)\n",
    "conv3 = keras.layers.Conv1D(16,7,activation=\"relu\",name=\"afterpollconv3\")(x_p)\n",
    "merger = tf.keras.layers.Concatenate(axis=-1)([conv1, conv2,conv3])\n",
    "x_p = keras.layers.MaxPool1D()(merger)\n",
    "conv1  = keras.layers.Conv1D(16,7,activation=\"relu\",name=\"aftepollconv11\")(x_p)\n",
    "x = keras.layers.Flatten()(conv1)\n",
    "x = keras.layers.Dropout(0.5)(x)\n",
    "# x = keras.layers.Dense(256,activation=\"relu\")(x)\n",
    "# x = keras.layers.Dense(128,activation=\"relu\")(x)\n",
    "# x = keras.layers.Dense(64,activation=\"relu\")(x)\n",
    "x = keras.layers.Dense(20,activation=\"relu\")(x)\n",
    "output = keras.layers.Dense(20,activation=\"softmax\")(x)\n",
    "\n",
    "model = Model(inputs=x_input,outputs=output)\n",
    "\n",
    "model.summary()\n",
    "# model.plot()"
   ]
  },
  {
   "cell_type": "markdown",
   "metadata": {},
   "source": [
    "### Model parameter"
   ]
  },
  {
   "cell_type": "code",
   "execution_count": 285,
   "metadata": {},
   "outputs": [
    {
     "name": "stdout",
     "output_type": "stream",
     "text": [
      "Epoch 1/10\n",
      "220/220 [==============================] - 11s 49ms/step - loss: 1.3753 - accuracy: 0.5239 - val_loss: 1.3625 - val_accuracy: 0.5329\n",
      "Epoch 2/10\n",
      "220/220 [==============================] - 11s 48ms/step - loss: 1.3435 - accuracy: 0.5358 - val_loss: 1.3349 - val_accuracy: 0.5385\n",
      "Epoch 3/10\n",
      "220/220 [==============================] - 11s 49ms/step - loss: 1.3267 - accuracy: 0.5385 - val_loss: 1.3189 - val_accuracy: 0.5455\n",
      "Epoch 4/10\n",
      "220/220 [==============================] - 11s 48ms/step - loss: 1.2949 - accuracy: 0.5499 - val_loss: 1.3024 - val_accuracy: 0.5541\n",
      "Epoch 5/10\n",
      "220/220 [==============================] - 11s 50ms/step - loss: 1.2686 - accuracy: 0.5532 - val_loss: 1.2846 - val_accuracy: 0.5599\n",
      "Epoch 6/10\n",
      "220/220 [==============================] - 10s 47ms/step - loss: 1.2479 - accuracy: 0.5658 - val_loss: 1.2754 - val_accuracy: 0.5652\n",
      "Epoch 7/10\n",
      "220/220 [==============================] - 10s 47ms/step - loss: 1.2360 - accuracy: 0.5659 - val_loss: 1.2807 - val_accuracy: 0.5607\n",
      "Epoch 8/10\n",
      "220/220 [==============================] - 11s 48ms/step - loss: 1.2176 - accuracy: 0.5789 - val_loss: 1.2493 - val_accuracy: 0.5718\n",
      "Epoch 9/10\n",
      "220/220 [==============================] - 11s 49ms/step - loss: 1.1918 - accuracy: 0.5839 - val_loss: 1.2542 - val_accuracy: 0.5712\n",
      "Epoch 10/10\n",
      "220/220 [==============================] - 11s 49ms/step - loss: 1.1793 - accuracy: 0.5856 - val_loss: 1.2372 - val_accuracy: 0.5785\n"
     ]
    },
    {
     "data": {
      "text/plain": [
       "<keras.callbacks.History at 0x1d50f67c850>"
      ]
     },
     "execution_count": 285,
     "metadata": {},
     "output_type": "execute_result"
    }
   ],
   "source": [
    "epoch = 10\n",
    "batch_size = 64\n",
    "# optimizer\n",
    "opt = tf.keras.optimizers.Adam(learning_rate=0.0001)\n",
    "model.compile(optimizer=opt,loss=\"categorical_crossentropy\",metrics=['accuracy'])\n",
    "model.fit(X_train,y_train,validation_data=[X_val,y_val],batch_size=batch_size,epochs=epoch)"
   ]
  },
  {
   "cell_type": "code",
   "execution_count": 286,
   "metadata": {},
   "outputs": [
    {
     "name": "stdout",
     "output_type": "stream",
     "text": [
      "Epoch 1/10\n",
      "220/220 [==============================] - 11s 46ms/step - loss: 1.1485 - accuracy: 0.6010 - val_loss: 1.2274 - val_accuracy: 0.5782\n",
      "Epoch 2/10\n",
      "220/220 [==============================] - 10s 46ms/step - loss: 1.1470 - accuracy: 0.5958 - val_loss: 1.2243 - val_accuracy: 0.5825\n",
      "Epoch 3/10\n",
      "220/220 [==============================] - 11s 50ms/step - loss: 1.1453 - accuracy: 0.5968 - val_loss: 1.2245 - val_accuracy: 0.5836\n",
      "Epoch 4/10\n",
      "220/220 [==============================] - 11s 50ms/step - loss: 1.1388 - accuracy: 0.6020 - val_loss: 1.2220 - val_accuracy: 0.5838\n",
      "Epoch 5/10\n",
      "220/220 [==============================] - 11s 49ms/step - loss: 1.1351 - accuracy: 0.6005 - val_loss: 1.2231 - val_accuracy: 0.5840\n",
      "Epoch 6/10\n",
      "220/220 [==============================] - 11s 48ms/step - loss: 1.1388 - accuracy: 0.6018 - val_loss: 1.2209 - val_accuracy: 0.5851\n",
      "Epoch 7/10\n",
      "220/220 [==============================] - 11s 49ms/step - loss: 1.1332 - accuracy: 0.6070 - val_loss: 1.2195 - val_accuracy: 0.5866\n",
      "Epoch 8/10\n",
      "220/220 [==============================] - 11s 48ms/step - loss: 1.1324 - accuracy: 0.6046 - val_loss: 1.2218 - val_accuracy: 0.5870\n",
      "Epoch 9/10\n",
      "220/220 [==============================] - 10s 47ms/step - loss: 1.1321 - accuracy: 0.6030 - val_loss: 1.2174 - val_accuracy: 0.5881\n",
      "Epoch 10/10\n",
      "220/220 [==============================] - 11s 48ms/step - loss: 1.1274 - accuracy: 0.6026 - val_loss: 1.2205 - val_accuracy: 0.5857\n"
     ]
    },
    {
     "data": {
      "text/plain": [
       "<keras.callbacks.History at 0x1d505b95d60>"
      ]
     },
     "execution_count": 286,
     "metadata": {},
     "output_type": "execute_result"
    }
   ],
   "source": [
    "## We are heating the plateau so reducing the learnig rate\n",
    "\n",
    "epoch = 10\n",
    "batch_size = 64\n",
    "\n",
    "# optimizer\n",
    "opt = tf.keras.optimizers.Adam(learning_rate=0.00001)\n",
    "model.compile(optimizer=opt,loss=\"categorical_crossentropy\",metrics=['accuracy'])\n",
    "model.fit(X_train,y_train,validation_data=[X_val,y_val],batch_size=batch_size,epochs=epoch)"
   ]
  },
  {
   "cell_type": "code",
   "execution_count": 288,
   "metadata": {},
   "outputs": [],
   "source": [
    "pred = model.predict(X_val[89].reshape(1,100))"
   ]
  },
  {
   "cell_type": "code",
   "execution_count": 289,
   "metadata": {},
   "outputs": [
    {
     "data": {
      "text/plain": [
       "(18, 18)"
      ]
     },
     "execution_count": 289,
     "metadata": {},
     "output_type": "execute_result"
    }
   ],
   "source": [
    "np.argmax(pred),np.argmax(y_val[89])"
   ]
  },
  {
   "cell_type": "markdown",
   "metadata": {},
   "source": [
    "### Observation \n",
    "\n",
    "<pre>\n",
    "- Model was trained with learning rate of __0.0001 and 0.001__.\n",
    "\n",
    "- When the learning rate was 0.001 model tends to over fit after certain time.\n",
    "\n",
    "- The __filter size__ was change from __3 to 7__ to reduce the __parameter__ of the model.\n",
    "\n",
    "- Embedding layers use is of glob embedding which seem to perform good.\n",
    "\n",
    "- After we kept hitting the __Plateau__ train was terminated and accuracy was calculated.\n",
    "\n",
    "- The overall accuracy was found to be around __58 Percent__.\n",
    "\n",
    "- <font color=\"Blue\" size=\"4\"><b>To Remember</b></font>\n",
    "\n",
    "1. The filter in conv1d can act as n-grams.\n",
    "2. The inital size of the metrix should be one dimension to pass through embedding layers which give the dimesion of word vector.\n",
    "\n",
    "</pre>"
   ]
  },
  {
   "cell_type": "markdown",
   "metadata": {
    "colab_type": "text",
    "id": "9cg4L1V4Yv1d"
   },
   "source": [
    "### Model-2 : Using 1D convolutions with character embedding"
   ]
  },
  {
   "cell_type": "code",
   "execution_count": 103,
   "metadata": {},
   "outputs": [
    {
     "name": "stdout",
     "output_type": "stream",
     "text": [
      "Model: \"model\"\n",
      "_________________________________________________________________\n",
      " Layer (type)                Output Shape              Param #   \n",
      "=================================================================\n",
      " input_1 (InputLayer)        [(None, 100)]             0         \n",
      "                                                                 \n",
      " embedding (Embedding)       (None, 100, 300)          11700     \n",
      "                                                                 \n",
      " first_conv (Conv1D)         (None, 94, 16)            33616     \n",
      "                                                                 \n",
      " Second_conv (Conv1D)        (None, 88, 16)            1808      \n",
      "                                                                 \n",
      " max_pooling1d (MaxPooling1D  (None, 44, 16)           0         \n",
      " )                                                               \n",
      "                                                                 \n",
      " First_conv_1 (Conv1D)       (None, 38, 16)            1808      \n",
      "                                                                 \n",
      " second_conv_1 (Conv1D)      (None, 32, 16)            1808      \n",
      "                                                                 \n",
      " flatten (Flatten)           (None, 512)               0         \n",
      "                                                                 \n",
      " dropout (Dropout)           (None, 512)               0         \n",
      "                                                                 \n",
      " dense (Dense)               (None, 32)                16416     \n",
      "                                                                 \n",
      " output (Dense)              (None, 20)                660       \n",
      "                                                                 \n",
      "=================================================================\n",
      "Total params: 67,816\n",
      "Trainable params: 56,116\n",
      "Non-trainable params: 11,700\n",
      "_________________________________________________________________\n"
     ]
    }
   ],
   "source": [
    "## creating the model\n",
    "from tensorflow.keras.models import Model, load_model,Sequential\n",
    "import tensorflow as tf\n",
    "\n",
    "tf.keras.backend.clear_session()\n",
    "\n",
    "inputs = tf.keras.layers.Input((100,))\n",
    "embd_inputs = tf.keras.layers.Embedding(39,300,weights=[embedding_matrix],trainable=False)(inputs)\n",
    "x = tf.keras.layers.Conv1D(16,7,activation=\"relu\",name=\"first_conv\")(embd_inputs)\n",
    "x = tf.keras.layers.Conv1D(16,7,activation=\"relu\",name=\"Second_conv\")(x)\n",
    "x = tf.keras.layers.MaxPool1D()(x)\n",
    "x = tf.keras.layers.Conv1D(16,7,activation=\"relu\",name=\"First_conv_1\")(x)\n",
    "x = tf.keras.layers.Conv1D(16,7,activation=\"relu\",name=\"second_conv_1\")(x)\n",
    "x = tf.keras.layers.Flatten()(x)\n",
    "x = tf.keras.layers.Dropout(0.5)(x)\n",
    "x = tf.keras.layers.Dense(32,activation=\"relu\")(x)\n",
    "outputs = tf.keras.layers.Dense(20,activation=\"softmax\",name=\"output\")(x)\n",
    "\n",
    "model = Model(inputs=inputs,outputs=outputs)\n",
    "model.summary()\n"
   ]
  },
  {
   "cell_type": "code",
   "execution_count": 98,
   "metadata": {},
   "outputs": [
    {
     "name": "stdout",
     "output_type": "stream",
     "text": [
      "Epoch 1/50\n",
      "220/220 [==============================] - 11s 44ms/step - loss: 2.9953 - accuracy: 0.0495 - val_loss: 2.9925 - val_accuracy: 0.0519\n",
      "Epoch 2/50\n",
      "220/220 [==============================] - 13s 60ms/step - loss: 2.9922 - accuracy: 0.0540 - val_loss: 2.9915 - val_accuracy: 0.0556\n",
      "Epoch 3/50\n",
      "220/220 [==============================] - 10s 47ms/step - loss: 2.9903 - accuracy: 0.0586 - val_loss: 2.9881 - val_accuracy: 0.0733\n",
      "Epoch 4/50\n",
      "220/220 [==============================] - 10s 45ms/step - loss: 2.9825 - accuracy: 0.0731 - val_loss: 2.9772 - val_accuracy: 0.0821\n",
      "Epoch 5/50\n",
      "220/220 [==============================] - 11s 49ms/step - loss: 2.9661 - accuracy: 0.0872 - val_loss: 2.9573 - val_accuracy: 0.0941\n",
      "Epoch 6/50\n",
      "220/220 [==============================] - 11s 50ms/step - loss: 2.9443 - accuracy: 0.1014 - val_loss: 2.9392 - val_accuracy: 0.1056\n",
      "Epoch 7/50\n",
      "220/220 [==============================] - 15s 70ms/step - loss: 2.9221 - accuracy: 0.1105 - val_loss: 2.9238 - val_accuracy: 0.1148\n",
      "Epoch 8/50\n",
      "220/220 [==============================] - 11s 50ms/step - loss: 2.8985 - accuracy: 0.1203 - val_loss: 2.9096 - val_accuracy: 0.1218\n",
      "Epoch 9/50\n",
      "220/220 [==============================] - 10s 45ms/step - loss: 2.8794 - accuracy: 0.1298 - val_loss: 2.8990 - val_accuracy: 0.1238\n",
      "Epoch 10/50\n",
      "220/220 [==============================] - 12s 54ms/step - loss: 2.8653 - accuracy: 0.1325 - val_loss: 2.8900 - val_accuracy: 0.1342\n",
      "Epoch 11/50\n",
      "220/220 [==============================] - 13s 57ms/step - loss: 2.8501 - accuracy: 0.1398 - val_loss: 2.8785 - val_accuracy: 0.1334\n",
      "Epoch 12/50\n",
      "220/220 [==============================] - 13s 58ms/step - loss: 2.8325 - accuracy: 0.1409 - val_loss: 2.8714 - val_accuracy: 0.1377\n",
      "Epoch 13/50\n",
      "220/220 [==============================] - 12s 54ms/step - loss: 2.8211 - accuracy: 0.1491 - val_loss: 2.8633 - val_accuracy: 0.1411\n",
      "Epoch 14/50\n",
      "220/220 [==============================] - 14s 65ms/step - loss: 2.8073 - accuracy: 0.1551 - val_loss: 2.8596 - val_accuracy: 0.1430\n",
      "Epoch 15/50\n",
      "220/220 [==============================] - 15s 70ms/step - loss: 2.7996 - accuracy: 0.1584 - val_loss: 2.8524 - val_accuracy: 0.1454\n",
      "Epoch 16/50\n",
      "220/220 [==============================] - 14s 65ms/step - loss: 2.7847 - accuracy: 0.1638 - val_loss: 2.8476 - val_accuracy: 0.1494\n",
      "Epoch 17/50\n",
      "220/220 [==============================] - 14s 64ms/step - loss: 2.7754 - accuracy: 0.1635 - val_loss: 2.8395 - val_accuracy: 0.1520\n",
      "Epoch 18/50\n",
      "220/220 [==============================] - 12s 55ms/step - loss: 2.7613 - accuracy: 0.1714 - val_loss: 2.8357 - val_accuracy: 0.1533\n",
      "Epoch 19/50\n",
      "220/220 [==============================] - 11s 48ms/step - loss: 2.7524 - accuracy: 0.1756 - val_loss: 2.8285 - val_accuracy: 0.1533\n",
      "Epoch 20/50\n",
      "220/220 [==============================] - 11s 51ms/step - loss: 2.7403 - accuracy: 0.1781 - val_loss: 2.8262 - val_accuracy: 0.1580\n",
      "Epoch 21/50\n",
      "220/220 [==============================] - 10s 44ms/step - loss: 2.7308 - accuracy: 0.1809 - val_loss: 2.8229 - val_accuracy: 0.1595\n",
      "Epoch 22/50\n",
      "220/220 [==============================] - 11s 52ms/step - loss: 2.7160 - accuracy: 0.1884 - val_loss: 2.8157 - val_accuracy: 0.1588\n",
      "Epoch 23/50\n",
      "220/220 [==============================] - 12s 52ms/step - loss: 2.7123 - accuracy: 0.1903 - val_loss: 2.8120 - val_accuracy: 0.1597\n",
      "Epoch 24/50\n",
      "220/220 [==============================] - 10s 47ms/step - loss: 2.7036 - accuracy: 0.1951 - val_loss: 2.8101 - val_accuracy: 0.1665\n",
      "Epoch 25/50\n",
      "220/220 [==============================] - 13s 57ms/step - loss: 2.6901 - accuracy: 0.1965 - val_loss: 2.8084 - val_accuracy: 0.1663\n",
      "Epoch 26/50\n",
      "220/220 [==============================] - 13s 58ms/step - loss: 2.6854 - accuracy: 0.2014 - val_loss: 2.8004 - val_accuracy: 0.1678\n",
      "Epoch 27/50\n",
      "220/220 [==============================] - 10s 45ms/step - loss: 2.6764 - accuracy: 0.2038 - val_loss: 2.7952 - val_accuracy: 0.1691\n",
      "Epoch 28/50\n",
      "220/220 [==============================] - 10s 44ms/step - loss: 2.6593 - accuracy: 0.2029 - val_loss: 2.7935 - val_accuracy: 0.1732\n",
      "Epoch 29/50\n",
      "220/220 [==============================] - 10s 43ms/step - loss: 2.6586 - accuracy: 0.2067 - val_loss: 2.7911 - val_accuracy: 0.1740\n",
      "Epoch 30/50\n",
      "220/220 [==============================] - 10s 44ms/step - loss: 2.6471 - accuracy: 0.2094 - val_loss: 2.7884 - val_accuracy: 0.1766\n",
      "Epoch 31/50\n",
      "220/220 [==============================] - 11s 50ms/step - loss: 2.6325 - accuracy: 0.2176 - val_loss: 2.7864 - val_accuracy: 0.1802\n",
      "Epoch 32/50\n",
      "220/220 [==============================] - 15s 68ms/step - loss: 2.6270 - accuracy: 0.2171 - val_loss: 2.7820 - val_accuracy: 0.1794\n",
      "Epoch 33/50\n",
      "220/220 [==============================] - 11s 51ms/step - loss: 2.6169 - accuracy: 0.2230 - val_loss: 2.7780 - val_accuracy: 0.1806\n",
      "Epoch 34/50\n",
      "220/220 [==============================] - 11s 48ms/step - loss: 2.6084 - accuracy: 0.2228 - val_loss: 2.7779 - val_accuracy: 0.1828\n",
      "Epoch 35/50\n",
      "220/220 [==============================] - 11s 48ms/step - loss: 2.5979 - accuracy: 0.2306 - val_loss: 2.7755 - val_accuracy: 0.1843\n",
      "Epoch 36/50\n",
      "220/220 [==============================] - 10s 43ms/step - loss: 2.5845 - accuracy: 0.2299 - val_loss: 2.7769 - val_accuracy: 0.1796\n",
      "Epoch 37/50\n",
      "220/220 [==============================] - 12s 53ms/step - loss: 2.5824 - accuracy: 0.2324 - val_loss: 2.7755 - val_accuracy: 0.1851\n",
      "Epoch 38/50\n",
      "220/220 [==============================] - 10s 45ms/step - loss: 2.5667 - accuracy: 0.2354 - val_loss: 2.7730 - val_accuracy: 0.1864\n",
      "Epoch 39/50\n",
      "220/220 [==============================] - 10s 47ms/step - loss: 2.5660 - accuracy: 0.2350 - val_loss: 2.7695 - val_accuracy: 0.1892\n",
      "Epoch 40/50\n",
      "220/220 [==============================] - 10s 46ms/step - loss: 2.5533 - accuracy: 0.2421 - val_loss: 2.7659 - val_accuracy: 0.1894\n",
      "Epoch 41/50\n",
      "220/220 [==============================] - 11s 49ms/step - loss: 2.5514 - accuracy: 0.2437 - val_loss: 2.7620 - val_accuracy: 0.1954\n",
      "Epoch 42/50\n",
      "220/220 [==============================] - 10s 48ms/step - loss: 2.5306 - accuracy: 0.2513 - val_loss: 2.7625 - val_accuracy: 0.1973\n",
      "Epoch 43/50\n",
      "220/220 [==============================] - 10s 47ms/step - loss: 2.5317 - accuracy: 0.2510 - val_loss: 2.7651 - val_accuracy: 0.1958\n",
      "Epoch 44/50\n",
      "220/220 [==============================] - 10s 45ms/step - loss: 2.5233 - accuracy: 0.2465 - val_loss: 2.7610 - val_accuracy: 0.1967\n",
      "Epoch 45/50\n",
      "220/220 [==============================] - 10s 45ms/step - loss: 2.5220 - accuracy: 0.2488 - val_loss: 2.7585 - val_accuracy: 0.2009\n",
      "Epoch 46/50\n",
      "220/220 [==============================] - 11s 52ms/step - loss: 2.5084 - accuracy: 0.2507 - val_loss: 2.7622 - val_accuracy: 0.2020\n",
      "Epoch 47/50\n",
      "220/220 [==============================] - 10s 44ms/step - loss: 2.5021 - accuracy: 0.2605 - val_loss: 2.7583 - val_accuracy: 0.2003\n",
      "Epoch 48/50\n",
      "220/220 [==============================] - 10s 47ms/step - loss: 2.4905 - accuracy: 0.2620 - val_loss: 2.7605 - val_accuracy: 0.2046\n",
      "Epoch 49/50\n",
      "220/220 [==============================] - 10s 47ms/step - loss: 2.4852 - accuracy: 0.2637 - val_loss: 2.7575 - val_accuracy: 0.2033\n",
      "Epoch 50/50\n",
      "220/220 [==============================] - 10s 45ms/step - loss: 2.4668 - accuracy: 0.2688 - val_loss: 2.7622 - val_accuracy: 0.2071\n"
     ]
    },
    {
     "data": {
      "text/plain": [
       "<keras.callbacks.History at 0x167ee05b8e0>"
      ]
     },
     "execution_count": 98,
     "metadata": {},
     "output_type": "execute_result"
    }
   ],
   "source": [
    "## Model trained with the dense layers of 64  and filter size of 7\n",
    "epoch = 50\n",
    "batch_size = 64\n",
    "# optimizer\n",
    "opt = tf.keras.optimizers.Adam(learning_rate=0.0001)\n",
    "model.compile(optimizer=opt,loss=\"categorical_crossentropy\",metrics=['accuracy'])\n",
    "model.fit(X_train,y_train,validation_data=[X_val,y_val],batch_size=batch_size,epochs=epoch)"
   ]
  },
  {
   "cell_type": "code",
   "execution_count": 99,
   "metadata": {},
   "outputs": [
    {
     "name": "stdout",
     "output_type": "stream",
     "text": [
      "Epoch 1/10\n",
      "220/220 [==============================] - 11s 44ms/step - loss: 2.5759 - accuracy: 0.2392 - val_loss: 2.7358 - val_accuracy: 0.2054\n",
      "Epoch 2/10\n",
      "220/220 [==============================] - 14s 64ms/step - loss: 2.5296 - accuracy: 0.2482 - val_loss: 2.7395 - val_accuracy: 0.2048\n",
      "Epoch 3/10\n",
      "220/220 [==============================] - 14s 61ms/step - loss: 2.4834 - accuracy: 0.2624 - val_loss: 2.7309 - val_accuracy: 0.2093\n",
      "Epoch 4/10\n",
      "220/220 [==============================] - 11s 49ms/step - loss: 2.4528 - accuracy: 0.2743 - val_loss: 2.7506 - val_accuracy: 0.2110\n",
      "Epoch 5/10\n",
      "220/220 [==============================] - 14s 66ms/step - loss: 2.4201 - accuracy: 0.2824 - val_loss: 2.7347 - val_accuracy: 0.2163\n",
      "Epoch 6/10\n",
      "220/220 [==============================] - 13s 59ms/step - loss: 2.3872 - accuracy: 0.2852 - val_loss: 2.7356 - val_accuracy: 0.2140\n",
      "Epoch 7/10\n",
      "220/220 [==============================] - 10s 45ms/step - loss: 2.3534 - accuracy: 0.2958 - val_loss: 2.7525 - val_accuracy: 0.2227\n",
      "Epoch 8/10\n",
      "220/220 [==============================] - 13s 60ms/step - loss: 2.3310 - accuracy: 0.3071 - val_loss: 2.7333 - val_accuracy: 0.2176\n",
      "Epoch 9/10\n",
      "220/220 [==============================] - 11s 50ms/step - loss: 2.2956 - accuracy: 0.3153 - val_loss: 2.7236 - val_accuracy: 0.2195\n",
      "Epoch 10/10\n",
      "220/220 [==============================] - 11s 49ms/step - loss: 2.2938 - accuracy: 0.3151 - val_loss: 2.7361 - val_accuracy: 0.2238\n"
     ]
    },
    {
     "data": {
      "text/plain": [
       "<keras.callbacks.History at 0x167f0672ee0>"
      ]
     },
     "execution_count": 99,
     "metadata": {},
     "output_type": "execute_result"
    }
   ],
   "source": [
    "# since model is not converging fast increasing the learning rate \n",
    "# This model was trained with the dense layers of 64 .\n",
    "epoch = 10\n",
    "batch_size = 64\n",
    "# optimizer\n",
    "opt = tf.keras.optimizers.Adam(learning_rate=0.001)\n",
    "model.compile(optimizer=opt,loss=\"categorical_crossentropy\",metrics=['accuracy'])\n",
    "model.fit(X_train,y_train,validation_data=[X_val,y_val],batch_size=batch_size,epochs=epoch)"
   ]
  },
  {
   "cell_type": "markdown",
   "metadata": {},
   "source": [
    "<pre>\n",
    "with increaing the learnign as model tends to converge less model seem to ovefit.\n",
    "So,\n",
    "\n",
    "    Decreasing the parameters in the model.\n",
    "</pre>"
   ]
  },
  {
   "cell_type": "code",
   "execution_count": 106,
   "metadata": {},
   "outputs": [
    {
     "name": "stdout",
     "output_type": "stream",
     "text": [
      "Epoch 1/10\n",
      "220/220 [==============================] - 13s 55ms/step - loss: 2.6341 - accuracy: 0.2096 - val_loss: 2.7480 - val_accuracy: 0.1806\n",
      "Epoch 2/10\n",
      "220/220 [==============================] - 12s 53ms/step - loss: 2.6207 - accuracy: 0.2093 - val_loss: 2.7482 - val_accuracy: 0.1841\n",
      "Epoch 3/10\n",
      "220/220 [==============================] - 12s 57ms/step - loss: 2.6221 - accuracy: 0.2121 - val_loss: 2.7390 - val_accuracy: 0.1851\n",
      "Epoch 4/10\n",
      "220/220 [==============================] - 12s 54ms/step - loss: 2.6164 - accuracy: 0.2177 - val_loss: 2.7366 - val_accuracy: 0.1890\n",
      "Epoch 5/10\n",
      "220/220 [==============================] - 15s 67ms/step - loss: 2.5976 - accuracy: 0.2238 - val_loss: 2.7283 - val_accuracy: 0.1868\n",
      "Epoch 6/10\n",
      "220/220 [==============================] - 14s 62ms/step - loss: 2.5939 - accuracy: 0.2245 - val_loss: 2.7319 - val_accuracy: 0.1894\n",
      "Epoch 7/10\n",
      "220/220 [==============================] - 12s 53ms/step - loss: 2.5986 - accuracy: 0.2232 - val_loss: 2.7299 - val_accuracy: 0.1877\n",
      "Epoch 8/10\n",
      "220/220 [==============================] - 12s 52ms/step - loss: 2.5860 - accuracy: 0.2236 - val_loss: 2.7360 - val_accuracy: 0.1896\n",
      "Epoch 9/10\n",
      "220/220 [==============================] - 12s 54ms/step - loss: 2.5731 - accuracy: 0.2334 - val_loss: 2.7293 - val_accuracy: 0.1883\n",
      "Epoch 10/10\n",
      "220/220 [==============================] - 12s 53ms/step - loss: 2.5762 - accuracy: 0.2278 - val_loss: 2.7230 - val_accuracy: 0.1960\n"
     ]
    },
    {
     "data": {
      "text/plain": [
       "<keras.callbacks.History at 0x167f64cdee0>"
      ]
     },
     "execution_count": 106,
     "metadata": {},
     "output_type": "execute_result"
    }
   ],
   "source": [
    "epoch = 10   # 10+10 +20\n",
    "batch_size = 64\n",
    "# optimizer\n",
    "opt = tf.keras.optimizers.Adam(learning_rate=0.001)\n",
    "model.compile(optimizer=opt,loss=\"categorical_crossentropy\",metrics=['accuracy'])\n",
    "model.fit(X_train,y_train,validation_data=[X_val,y_val],batch_size=batch_size,epochs=epoch)"
   ]
  },
  {
   "cell_type": "markdown",
   "metadata": {},
   "source": [
    "<pre>\n",
    "\n",
    "For the char embedding accuracy didnot increase beyond 20.\n",
    "\n",
    "As, for the test i trained only for the 50 epochs. and some tends to overfit with the difference of 9-10 for val\n",
    "and train data accuracy.\n",
    "\n",
    "After keeping hitting the plateau by the model, i stopped the training process. decrease the learing rate. but result\n",
    "didnot change much.\n",
    "\n",
    "<b> Observation</b> \n",
    "1. char level encoding seems to perform less better than word level encoding.\n",
    "2. Char level encoding can be used when there are more slangs, and data is noisy.\n",
    "\n",
    "Char level embedding vector : <a href = \"https://raw.githubusercontent.com/minimaxir/char-embeddings/master/glove.840B.300d-char.txt\">Char Level encoding vector Github link</a>\n",
    "\n",
    "</pre>\n",
    "\n"
   ]
  }
 ],
 "metadata": {
  "colab": {
   "collapsed_sections": [],
   "name": "Text Classification Assignment.ipynb",
   "provenance": []
  },
  "kernelspec": {
   "display_name": "Python 3 (ipykernel)",
   "language": "python",
   "name": "python3"
  },
  "language_info": {
   "codemirror_mode": {
    "name": "ipython",
    "version": 3
   },
   "file_extension": ".py",
   "mimetype": "text/x-python",
   "name": "python",
   "nbconvert_exporter": "python",
   "pygments_lexer": "ipython3",
   "version": "3.9.2"
  }
 },
 "nbformat": 4,
 "nbformat_minor": 1
}
